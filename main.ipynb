{
 "cells": [
  {
   "cell_type": "markdown",
   "id": "77afbd25",
   "metadata": {},
   "source": [
    "# ST433 Computational Methods in Finance and Insurance - Summer Project\n",
    "\n",
    "**Candidate number: 38388**"
   ]
  },
  {
   "cell_type": "code",
   "execution_count": 1,
   "id": "d98d40a1",
   "metadata": {},
   "outputs": [],
   "source": [
    "# Loading required libraries\n",
    "import numpy as np\n",
    "from scipy.stats import norm\n",
    "import matplotlib.pyplot as plt"
   ]
  },
  {
   "cell_type": "code",
   "execution_count": 2,
   "id": "91262e75",
   "metadata": {},
   "outputs": [],
   "source": [
    "# Constructing Generator with fixed seed for reproducibility purposes \n",
    "rng = np.random.default_rng(12345)"
   ]
  },
  {
   "cell_type": "markdown",
   "id": "5a61b976",
   "metadata": {},
   "source": [
    "## Problem 1"
   ]
  },
  {
   "cell_type": "markdown",
   "id": "bae16842",
   "metadata": {},
   "source": [
    "Consider the problem in which we would like to generate a sample from a distribution function $F$. Let $X$ be a random variable whose cumulative distribution function is given by\n",
    "\n",
    "\\begin{equation*}\n",
    "F(x)=\\begin{cases}\n",
    "          0, \\quad &\\text{if} \\, x < 1 \\\\ \n",
    "          x - \\frac{3}{4}, \\quad &\\text{if} \\, 1 \\leq x < \\frac{3}{2} \\quad (1) \\\\\n",
    "          1, \\quad &\\text{if} \\, x \\geq \\frac{3}{2} \\\\\n",
    "     \\end{cases}\n",
    "\\end{equation*}\n",
    "\n",
    "One way to generate a sample from $F$ is to use the inverse transform method which is based on the following lemma: if $U \\sim U(0,1)$, then the random variable $F^{-1}(u)$ has cumulative distribution function $F$. Therefore to obtain a sample from $F$, we can first generate a sample $\\{U_{1}, U_{2}, \\dots,\\ U_{n}\\}$ from the Uniform distribution, where $U_{i}\\stackrel{iid}{\\sim} U(0,1)$, and then plug those values into the genralized inverse $F^{-1}$ to obtain a sample $\\{X_{1}, X_{2}, \\dots,\\ X_{n}\\}$ which has the same distribution as $X$.\n",
    "\n",
    "### I) Deriving the generalized inverse function of $F$\n",
    "\n",
    "Recall that the generalized inverse function of $F$ is defined by\n",
    "\n",
    "\\begin{equation*}\n",
    "F^{-1}(u)= \\inf{ \\{ x \\in \\mathbb{R} | F(x) \\geq u \\}} \\quad \\text{ for } u \\in \\left(0,1\\right)\n",
    "\\end{equation*}\n",
    "\n",
    "For $x \\in \\left[1, \\frac{3}{2} \\right) $, we can solve the following equation for $x$\n",
    "\n",
    "\\begin{equation} F(x) = u \\Rightarrow x - \\frac{3}{4} = u \\Rightarrow x = \\frac{3}{4} + u\n",
    "\\end{equation}\n",
    "\n",
    "Since $1 \\leq x < \\frac{3}{2}$, we require $1 \\leq \\frac{3}{4} + u < \\frac{3}{2} \\Leftrightarrow \\frac{1}{4} \\leq u < \\frac{3}{4}$. \n",
    "\n",
    "However, $F(F^{-1}(u)) \\neq u $ for some $u \\in \\left(0,1\\right)$. \n",
    "\n",
    "In particular, for $u \\in \\left(0,\\frac{1}{4}\\right)$, we can see that the smallest $x$ such that $F(x) \\geq u$ corresponds to $x = 1$. Therefore, $F(F^{-1}(u)) = F(1) = \\frac{1}{4} \\geq u$ for $u \\in \\left(0,\\frac{1}{4}\\right)$.\n",
    "\n",
    "Finally, for $u \\in \\left[\\frac{3}{4},1\\right)$, we can see that the smallest $x$ such that $F(x) \\geq u$ corresponds to $x = \\frac{3}{2}$. Hence, $F(F^{-1}(u)) = F(\\frac{3}{2}) = 1 \\geq u$ for $u \\in \\left[\\frac{3}{4},1\\right)$.\n",
    "\n",
    "Therefore, the generalized inverse function of $F$ is given by\n",
    "\n",
    "\\begin{equation*}\n",
    "F^{-1}(u)=\\begin{cases}\n",
    "          1, \\quad &\\text{if} \\, 0 < u < \\frac{1}{4} \\\\ \n",
    "          u + \\frac{3}{4}, \\quad &\\text{if} \\, \\frac{1}{4} \\leq u < \\frac{3}{4} \\quad (2) \\\\\n",
    "          \\frac{3}{2}, \\quad &\\text{if} \\, \\frac{3}{4} \\leq u < 1 \\\\\n",
    "     \\end{cases}\n",
    "\\end{equation*}\n",
    "\n",
    "We know that $F^{-1}$ has to be left continuous, in order to be a valid inverse function for $F$. Let's check this fact. At $u = 0.25$, we have $\\lim_{u\\to 0.25^{-}}F^{-1}(u) = 1$ which is equal to $F^{-1}(0.25) = 0.25+0.75 = 1$.\n",
    "And at $u=0.75$, we have $\\lim_{u\\to 0.75^{-}}F^{-1}(u) = 0.75 + 0.75 = 1.5$ which is equal to $F^{-1}(0.75) = 1.5$. Hence, we can use an i.i.d sample $\\{U_{1}, U_{2}, \\dots,\\ U_{n}\\}$ from $U(0,1)$, and set $F^{-1}(U)$ which is given in (2) to obtain $\\{F^{-1}(U_{1}), F^{-1}(U_{2}), \\dots,\\ F^{-1}(U_{n})\\}$ which corresponds to a sample from the required distribution given in (1)."
   ]
  },
  {
   "cell_type": "markdown",
   "id": "7fc032db",
   "metadata": {},
   "source": [
    "### II) Implementation of the technique\n",
    "\n",
    "Let's implement the inverse transform method to obtain a sample from $F$ of size $10000$ and plot its histogram."
   ]
  },
  {
   "cell_type": "code",
   "execution_count": 3,
   "id": "f48f76ce",
   "metadata": {},
   "outputs": [],
   "source": [
    "def cdf_inverse(u):\n",
    "    \"\"\"Returns inverse function of F evaluated at u where u in (0,1).\"\"\"\n",
    "    f = np.piecewise(u, [u < 0.25, ((u >= 0.25) & (u < 0.75)), u >= 0.75], [1, lambda u : u + 0.75 , 1.5])\n",
    "    return f"
   ]
  },
  {
   "cell_type": "code",
   "execution_count": 4,
   "id": "2d762561",
   "metadata": {},
   "outputs": [],
   "source": [
    "def sample_F(rng, samplesize):\n",
    "    \"\"\"Function that returns an array containing a sample from the distribution of F for a given random generator.\"\"\"\n",
    "    myuniforms = rng.random(samplesize) # generate sample from U(0,1)\n",
    "    mysample = cdf_inverse(myuniforms)  # obtain sample by plugging uniform sample into inverse of F\n",
    "    return mysample"
   ]
  },
  {
   "cell_type": "code",
   "execution_count": 5,
   "id": "fe0ae9ec",
   "metadata": {},
   "outputs": [
    {
     "data": {
      "image/png": "[encoded data removed]",
      "text/plain": [
       "<Figure size 576x360 with 1 Axes>"
      ]
     },
     "metadata": {
      "needs_background": "light"
     },
     "output_type": "display_data"
    }
   ],
   "source": [
    "# Plotting histogram of generated sample  \n",
    "samplesize = 10000 \n",
    "mysample = sample_F(rng, samplesize)\n",
    "\n",
    "fig, ax = plt.subplots(nrows=1, ncols=1, figsize=(8,5)) # create plot figure\n",
    "ax.hist(mysample, bins=20, facecolor = '#2ab0ff', edgecolor='#169acf', linewidth=2) # plotting histogram\n",
    "ax.set_title(\"Sample from distribution of F using the inverse transform method\") # setting title\n",
    "ax.set_ylabel(\"Frequency\") # labelling y-axis \n",
    "plt.show()"
   ]
  },
  {
   "cell_type": "markdown",
   "id": "8cd69034",
   "metadata": {},
   "source": [
    "To verify the correctness of our implementation, we can try to see how close our emprical quantiles derived from $F$ in (1) are to the theoritical ones. For this purpose, we will consider the first quartile, the median and the 70th percentile. The measures are given by\n",
    "\n",
    "$\n",
    "\\begin{equation*} \n",
    "F(Q_{25}) = 0.25 \\Rightarrow Q_{25} = 1 \\\\\n",
    "F(Q_{50}) = 0.5 \\Rightarrow Q_{50} = 1.25 \\\\\n",
    "F(Q_{70}) = 0.70 \\Rightarrow Q_{70} = 1.45 \\\\\n",
    "\\end{equation*}\n",
    "$\n",
    "\n",
    "where $Q_{25}$, $Q_{50}$, $Q_{70}$ represent respectively the first quartile, the median and the $70^{th}$ percentile."
   ]
  },
  {
   "cell_type": "code",
   "execution_count": 6,
   "id": "317ed940",
   "metadata": {},
   "outputs": [
    {
     "name": "stdout",
     "output_type": "stream",
     "text": [
      "Empirical first quartile: 1.0\n",
      "Empirical median: 1.2428\n",
      "70% empirical percentile: 1.4446\n"
     ]
    }
   ],
   "source": [
    "# Comparing the theoritical quantiles with the obtained quantiles\n",
    "Q_25 = round(np.quantile(mysample, 0.25), 4)\n",
    "median = round(np.quantile(mysample, 0.5), 4)\n",
    "Q_70 = round(np.quantile(mysample, 0.7), 4)\n",
    "\n",
    "print(\"Empirical first quartile: {}\".format(Q_25))\n",
    "print(\"Empirical median: {}\".format(median))\n",
    "print(\"70% empirical percentile: {}\".format(Q_70))"
   ]
  },
  {
   "cell_type": "markdown",
   "id": "c9b795b5",
   "metadata": {},
   "source": [
    "Hence, we can see that our empirical quantiles are very to the theoritical ones, and we can conclude that our implementation seems to be correct."
   ]
  },
  {
   "cell_type": "markdown",
   "id": "14f2c194",
   "metadata": {},
   "source": [
    "### III) Antithetic pair\n",
    "\n",
    "For estimation purposes, it is of interest to find a random variable $Y$ such that $(X,Y)$ is an antithetic pair with cov$(X,Y) < 0$ and $X$ having cdf given by (1). This method can be particularly useful when $(X,Y)$ are negatively correlated, since it reduces the computational effort to generate a sample $(X_{i}, Y_{i})$ compared to generating a sample $Y_{i}$. \n",
    "\n",
    "Since we generated a sample from $F$ using the inverse transform method, we can define the antithetic pair $(F^{-1}(U),F^{-1}(1-U))$ where $U \\sim U(0,1)$. Indeed, we know from lemma 48 that:\n",
    "if $h : \\left[0,1\\right] \\rightarrow \\mathbb{R}$ is a monotonic function, then for $U \\sim U(0,1)$, we have\n",
    "cov$(h(U), h(1-U)) \\leq 0$.\n",
    "\n",
    "We can verify that indeed cov$(X, Y) < 0$ where  $X = F^{-1}(U)$, $Y = F^{-1}(1-U)$ and $U \\sim U(0,1)$ by using the following code."
   ]
  },
  {
   "cell_type": "code",
   "execution_count": 7,
   "id": "07b86cb2",
   "metadata": {},
   "outputs": [],
   "source": [
    "def f_sample_ap(rng, samplesize):\n",
    "    \"\"\"Function that returns an array containining sample from distribution of F using inverse transform method \n",
    "    based on antithetic pairs. Also returns the sample covariance between the antithetic pairs.\"\"\"\n",
    "    myuniforms = rng.random(samplesize) # generating iid sample U(0,1)\n",
    "    first_pair = cdf_inverse(myuniforms) \n",
    "    second_pair = cdf_inverse(1-myuniforms) # generating antithetic pair 1-U\n",
    "    mysample = np.concatenate((first_pair, second_pair)) # concatenating both samples\n",
    "    sample_cov = np.cov(first_pair, second_pair)[0][1] # sample covariance between X and Y\n",
    "    return mysample, sample_cov"
   ]
  },
  {
   "cell_type": "code",
   "execution_count": 8,
   "id": "763ba5a7",
   "metadata": {},
   "outputs": [
    {
     "name": "stdout",
     "output_type": "stream",
     "text": [
      "The sample covariance between X and Y is: -0.0418\n"
     ]
    }
   ],
   "source": [
    "sample_anti = f_sample_ap(rng, samplesize)\n",
    "print(\"The sample covariance between X and Y is:\", round(sample_anti[1], 4))"
   ]
  },
  {
   "cell_type": "markdown",
   "id": "78e93f81",
   "metadata": {},
   "source": [
    "The obtained sample covariance between $X$ and $Y$ is indeed negative, however, its value is very close to 0. We can plot the histogram of the generated sample using this antithetic pair."
   ]
  },
  {
   "cell_type": "code",
   "execution_count": 9,
   "id": "8c2a60df",
   "metadata": {},
   "outputs": [
    {
     "data": {
      "image/png": "[encoded data removed]",
      "text/plain": [
       "<Figure size 576x360 with 1 Axes>"
      ]
     },
     "metadata": {
      "needs_background": "light"
     },
     "output_type": "display_data"
    }
   ],
   "source": [
    "# Plotting histogram of generated sample using antithetic pair\n",
    "fig, ax = plt.subplots(nrows=1, ncols=1, figsize=(8,5))\n",
    "ax.hist(sample_anti[0], bins=20, facecolor = '#2ab0ff', edgecolor='#169acf', linewidth=2)\n",
    "ax.set_title(\"Sample from F using the inverse transform method with antithetic pair\")\n",
    "ax.set_ylabel(\"Frequency\")\n",
    "plt.show()"
   ]
  },
  {
   "cell_type": "markdown",
   "id": "3e20c62c",
   "metadata": {},
   "source": [
    "As we can see, by using the antithetic pair $(X,Y)$, we were able to generate a larger sample from $F$ without actually increasing the number of generated sample from $U(0,1)$.\n",
    "\n",
    "Moreover, to ensure that the covariance between $X$ and $Y$ is indeed negative, we can try to obtain 1000 sample covariance's measures between and $X$ and $Y$ and check if we still obtain only negative values."
   ]
  },
  {
   "cell_type": "code",
   "execution_count": 10,
   "id": "6511ad9e",
   "metadata": {},
   "outputs": [],
   "source": [
    "def cov_check(rng, samplesize, rep):\n",
    "    \"\"\"Function that returns an array of sample covariance between X and Y. The rep (int) argument controls the number\n",
    "    of required simulated covariance's measures.\"\"\"\n",
    "    mycov = np.zeros(rep) # vector that will contain cov measures \n",
    "    for i in range(rep):\n",
    "        tmp = f_sample_ap(rng, samplesize)\n",
    "        mycov[i] = tmp[1]\n",
    "    return mycov"
   ]
  },
  {
   "cell_type": "code",
   "execution_count": 11,
   "id": "555a048f",
   "metadata": {},
   "outputs": [
    {
     "data": {
      "image/png": "[encoded data removed]",
      "text/plain": [
       "<Figure size 576x360 with 1 Axes>"
      ]
     },
     "metadata": {
      "needs_background": "light"
     },
     "output_type": "display_data"
    },
    {
     "name": "stdout",
     "output_type": "stream",
     "text": [
      "Highest sample covariance obtained: -0.0408\n"
     ]
    }
   ],
   "source": [
    "# Plotting 1000 simulations of sample covariances between X and Y\n",
    "mycov = cov_check(rng, samplesize, rep=1000) \n",
    "\n",
    "fig, ax = plt.subplots(nrows=1, ncols=1, figsize = (8,5))\n",
    "ax.hist(mycov, bins=9, facecolor = '#2ab0ff', edgecolor='#169acf', linewidth=2)\n",
    "ax.set_title(\"Histogram of 1000 simulations of cov(X,Y)\")\n",
    "ax.set_ylabel(\"Frequency\")\n",
    "ax.set_xlabel(\"cov(X,Y)\")\n",
    "plt.show()\n",
    "\n",
    "max_cov = round(np.amax(mycov),4) # obtaining highest sample covariance\n",
    "print(\"Highest sample covariance obtained: {}\".format(max_cov))"
   ]
  },
  {
   "cell_type": "markdown",
   "id": "c661d8d1",
   "metadata": {},
   "source": [
    "As we can see, for 1000 simulations of cov$(X,Y)$, the highest possible obtained sample covariance is $-0.408$ which is still negative. Moreover, we can notice that the histogram has a normal shape: this comes directly from the Central Limit Theorem. Hence, we can derive an asymptotic 99% confidence interval for cov$(X,Y)$ using the below code."
   ]
  },
  {
   "cell_type": "code",
   "execution_count": 12,
   "id": "d1bf909f",
   "metadata": {},
   "outputs": [
    {
     "name": "stdout",
     "output_type": "stream",
     "text": [
      "A 99% confidence interval (-0.041703,-0.041662)\n"
     ]
    }
   ],
   "source": [
    "epsilon = 0.01 # setting confidence level\n",
    "mean = np.mean(mycov) # sample mean \n",
    "std = np.std(mycov, ddof = 1) # consistent estimator of sample standard deviation of cov(X,Y)\n",
    "aepsilon = norm.ppf(1.0 - epsilon*0.5) # inverse CDF of N(0,1)\n",
    "n = len(mycov) # sample size\n",
    "\n",
    "# Deriving upper and lower bound using standard asymptotic formula\n",
    "ci_left = round(mean - aepsilon*std/np.sqrt(n), 6)\n",
    "ci_right = round(mean + aepsilon*std/np.sqrt(n), 6)\n",
    "\n",
    "print(\"A 99% confidence interval ({},{})\".format(ci_left,ci_right))"
   ]
  },
  {
   "cell_type": "markdown",
   "id": "6fe7f3e0",
   "metadata": {},
   "source": [
    "Therefore, with a 99% confidence level, the interval $[-0.041703,-0.041662]$ contains the true value of cov($X,Y$), where we can clearly that the interval's upper bound is still negative. Therefore, we are 99% confident that the covariance between X and Y is negative, making $(F^{-1}(U), F^{-1}(1-U))$ a valid antithetic pair where $U \\sim U(0,1)$ and F defined in (1)."
   ]
  },
  {
   "cell_type": "markdown",
   "id": "0ff493db",
   "metadata": {},
   "source": [
    "# Problem 2\n",
    "\n",
    "### I) Exactness of a pseudocode for simulating a Brownian motion path\n",
    "\n",
    "Let $h > 0$, we consider the problem of simulating a sample of a stochastic process on the time grid\n",
    "\n",
    "\\begin{equation*}\n",
    "0 < h < 2h < ... < 10h\n",
    "\\end{equation*}\n",
    "\n",
    "Let's consider the following pseudocode for a sampling scheme:\n",
    "\n",
    "$\n",
    "\\begin{equation*}\n",
    "\\text{1: Set } \\hat{X}_{0} = 0 \\\\\n",
    "\\text{2:  Generate } Z = (Z_{1}, ..., Z_{10})^\\top \\sim \\mathcal{N}_{10}(0,\\,I_{10}) \\\\\n",
    "\\text{3:  Set } \\hat{X}_{i} = \\sqrt{ih} Z_{i} \\text{ for all } i \\in \\{1, ...,10\\}\n",
    "\\end{equation*}\n",
    "$\n",
    "\n",
    "To determine if the above pseudocode is an exact scheme for simulating a Brownian motion path, we can start by finding the distribution of $\\hat{X} = (X_{1}, ..., X_{10})^\\top$ and then compare it to the distribution of the corresponding  Brownian motion given by $ W = (W_{1}, ..., W_{10})^\\top $. The scheme is exact if $\\hat{X}$ and $W$ have the same distribution, otherwise the scheme is not exact.  <br>\n",
    "\n",
    "$\\hat{X}$ is given by\n",
    "\n",
    "\\begin{equation}\n",
    "\\hat{X} =\n",
    "    \\begin{pmatrix}\n",
    "        \\hat{X}_{1} \\\\\n",
    "        \\hat{X}_{2} \\\\\n",
    "        \\vdots \\\\\n",
    "        \\hat{X}_{10}\n",
    "    \\end{pmatrix}\n",
    "    =\n",
    "    \\begin{pmatrix}\n",
    "        \\sqrt{h}Z_{1} \\\\\n",
    "        \\sqrt{2h}Z_{2} \\\\\n",
    "        \\vdots \\\\\n",
    "        \\sqrt{10h}Z_{10}\n",
    "    \\end{pmatrix}\n",
    "    =\n",
    "     \\begin{pmatrix}\n",
    "        \\sqrt{h} & 0 & \\cdots & 0\\\\\n",
    "        0 & \\sqrt{2h} & \\cdots & 0\\\\ \n",
    "        \\vdots & \\vdots & \\ddots & \\vdots\\\\ \n",
    "        0 & 0 & \\cdots & \\sqrt{10h}\n",
    "     \\end{pmatrix}\n",
    "     \\times\n",
    "        \\begin{pmatrix}\n",
    "        Z_{1} \\\\\n",
    "        Z_{2} \\\\\n",
    "        \\vdots \\\\\n",
    "        Z_{10}\n",
    "    \\end{pmatrix}\n",
    "    =\n",
    "    AZ\n",
    "    \\quad\n",
    "\\end{equation}\n",
    "\n",
    "\n",
    "where $A \\in \\mathbb{R}^{10\\times 10}$ and $Z$ is a ten dimensional vector from the 10-dimensional standard normal distribution.\n",
    "\n",
    "Moreover, we know from lemma 55 that: if $ X \\sim \\mathcal{N}_{d}(\\mu,\\,\\Sigma),  \\mu  \\in \\mathbb{R}^{d}, \\Sigma \\in \\mathbb{R}^{d\\times d}$, then for any matrix $D \\in \\mathbb{R}^{k \\times d}$, we have $DX \\sim \\mathcal{N}_{k}(D\\mu, D \\Sigma D^{\\top})$.\n",
    "Thus, we have $\\hat{X} \\sim \\mathcal{N}_{10}(0, \\Sigma)$, since $A \\times 0 = 0$. Furthermore, $A$ is a diagonal matrix, hence $\\Sigma$ is given by\n",
    "\n",
    "\\begin{equation}\n",
    "\\Sigma = A I_{10} A^{\\top} = A A^{\\top} = A^{2} = \n",
    "     \\begin{pmatrix}\n",
    "        (\\sqrt{h})^{2} & 0 & \\cdots & 0\\\\\n",
    "        0 & (\\sqrt{2h})^{2} & \\cdots & 0\\\\ \n",
    "        \\vdots & \\vdots & \\ddots & \\vdots\\\\ \n",
    "        0 & 0 & \\cdots & (\\sqrt{10h})^{2}\n",
    "     \\end{pmatrix}\n",
    "     =\n",
    "     \\begin{pmatrix}\n",
    "        h & 0 & \\cdots & 0\\\\\n",
    "        0 & 2h & \\cdots & 0\\\\ \n",
    "        \\vdots & \\vdots & \\ddots & \\vdots\\\\ \n",
    "        0 & 0 & \\cdots & 10h\n",
    "     \\end{pmatrix}\n",
    "\\end{equation}\n",
    "\n",
    "\n",
    "Therefore, we obtain $\\hat{X} \\sim \\mathcal{N}_{10}(0, \\Sigma)$ where $\\Sigma_{ij} = 0$ for $ i \\neq j$ and $\\Sigma_{ii} = ih$ for $i \\in \\{1, ...,10\\}$."
   ]
  },
  {
   "cell_type": "markdown",
   "id": "c9f2a3df",
   "metadata": {},
   "source": [
    "However, the joint distribution of the corresponding Brownian motion on time grid is given by <br>\n",
    "$ W = (W_{1}, ..., W_{10})^\\top \\sim \\mathcal{N}_{10}(0, \\Sigma^{(B)})$ where $\\Sigma^{(B)}_{ij} = \\min{\\{ih,jh\\}}$ for $(i,j) \\in \\{1,2,...,10\\}$.\n",
    "\n",
    "We can clearly see that $\\Sigma \\neq \\Sigma^{(B)}$. Hence, we can conclude that the given pseudocode is not an exact scheme for simulating a sample path of a Brownian motion, since the distribution of $\\hat{X}$ do not coincide with the distribution of $W$. Indeed, they both follow a 10-dimensional normal distribution but with different covariance structure."
   ]
  },
  {
   "cell_type": "markdown",
   "id": "b8044cd6",
   "metadata": {},
   "source": [
    "### II) Example of a special stochastic process\n",
    "\n",
    "The goal in this section is to find an example of a stochastic process that solves a stochastic differential equation and for which the following two conditions are satisfied: <br>\n",
    "* A: The first order Euler scheme and the Milstein scheme do not coincide for this stochastic process\n",
    "* B: The second order Euler scheme coincides with the Milstein scheme for this stochastic process\n",
    "\n",
    "\n",
    "\n",
    "Consider a stochastic process {$X_{t}$} satisfying the SDE \n",
    "\n",
    "\\begin{equation} dX_{t} = \\mu(X_{t})dt + \\sigma(X_{t})dW_{t} \\quad (1) \\end{equation} \n",
    "\n",
    "with a fixed initial value $X_{0} > 0$.\n",
    "\n",
    "Let's consider the different discrete time approximations of $\\hat{X}$ of the continuous stochastic process $X$ at time points $0, h, 2h, 3h, ...$ for some $h > 0$:\n",
    "\n",
    "1. The first order Euler scheme for the SDE (1) is given by $\\hat{X}_{0} = X_{0}$ and\n",
    "\n",
    "\\begin{equation}\n",
    "\\hat{X}_{(j+1)h} = \\hat{X}_{jh} + \\mu(\\hat{X}_{jh})h + \\sigma(\\hat{X}_{jh}) \\sqrt{h} Z_{j+1} \\quad j = 0,1,2,...,\n",
    "\\end{equation}\n",
    "\n",
    "2. The Milstein scheme for the SDE (1) is given by $\\hat{X}_{0} = X_{0}$ and\n",
    "\n",
    "\\begin{equation}\n",
    "\\hat{X}_{(j+1)h} = \\hat{X}_{jh} + \\mu(\\hat{X}_{jh})h + \\sigma(\\hat{X}_{jh}) \\sqrt{h} Z_{j+1} + \\frac{1}{2} \\sigma(\\hat{X}_{jh}) \\sigma'(\\hat{X}_{jh}) h (Z^{2}_{j+1} - 1)\n",
    "\\quad j = 0,1,2,...,\n",
    "\\end{equation}\n",
    "\n",
    "3. The simplified second order Euler scheme for the SDE (1) is given by $\\hat{X}_{0} = X_{0}$ and\n",
    "\n",
    "\\begin{equation}\n",
    "\\hat{X}_{(j+1)h} = \\hat{X}_{jh} + \\mu(\\hat{X}_{jh})h + \\sigma(\\hat{X}_{jh}) \\sqrt{h} Z_{j+1} + \\frac{1}{2} \\sigma(\\hat{X}_{jh}) \\sigma'(\\hat{X}_{jh}) h (Z^{2}_{j+1} - 1) \n",
    "+\\left( \\frac{1}{2} \\sigma^{2}(\\hat{X}_{jh}) \\mu''(\\hat{X}_{jh}) + \\mu(\\hat{X}_{jh}) \\mu'(\\hat{X}_{jh}) \\right) \\frac{h^{2}}{2}\n",
    "+\\sigma(\\hat{X}_{jh}) \\mu'(\\hat{X}_{jh}) \\frac{h}{2} \\sqrt{h} Z_{j+1} \n",
    "+\\left( \\frac{1}{2} \\sigma^{2}(\\hat{X}_{jh}) \\sigma''(\\hat{X}_{jh}) + \\mu(\\hat{X}_{jh}) \\sigma'(\\hat{X}_{jh}) \\right)\n",
    "h \\sqrt{h} (Z_{j+1} - \\frac{1}{2} Z_{j+1}) \\quad j = 0,1,2,...\n",
    "\\end{equation}\n",
    "\n",
    "where $(Z_{j+1})$ are i.i.d random variables with $\\mathcal{N}_{1}(0,1)$ distribution.\n",
    "\n",
    "The goal is to find specific forms of $\\mu(X)$ and $\\sigma(X)$ that will satisfy condition A and B. We can notice that the Milstein scheme corresponds to the first order Euler scheme with the additional term: $\\frac{1}{2} \\sigma(\\hat{X}_{jh}) \\sigma'(\\hat{X}_{jh}) h (Z^{2}_{j+1} - 1).$\n",
    "\n",
    "Therefore, to have a first order Euler scheme that does not coincide with the Milstein scheme, we need \n",
    "\\begin{equation}\n",
    "\\frac{1}{2} \\sigma(X) \\sigma'(X) h (Z^{2}_{j+1} - 1) \\neq 0 \\quad \\Rightarrow \\quad\\sigma'(X) \\neq 0 \\quad (2)\n",
    "\\end{equation}\n",
    "\n",
    "Secondly, we can observe that the second order Euler scheme corresponds to the Milstein scheme with the addional term:\n",
    "$\n",
    "\\begin{equation}\n",
    "\\left( \\frac{1}{2} \\sigma^{2}(\\hat{X}_{jh}) \\mu''(\\hat{X}_{jh}) + \\mu(\\hat{X}_{jh}) \\mu'(\\hat{X}_{jh}) \\right) \\frac{h^{2}}{2}\n",
    "+\\sigma(\\hat{X}_{jh}) \\mu'(\\hat{X}_{jh}) \\frac{h}{2} \\sqrt{h} Z_{j+1} \n",
    "+\\left( \\frac{1}{2} \\sigma^{2}(\\hat{X}_{jh}) \\sigma''(\\hat{X}_{jh}) + \\mu(\\hat{X}_{jh}) \\sigma'(\\hat{X}_{jh}) \\right)\n",
    "h \\sqrt{h} (Z_{j+1} - \\frac{1}{2} Z_{j+1}) \\quad (3)\n",
    "\\end{equation}\n",
    "$"
   ]
  },
  {
   "cell_type": "markdown",
   "id": "4ef9f94c",
   "metadata": {},
   "source": [
    "Hence, to satisfy condtion B, we set (3) to 0 and obtain the following system of equations for $\\mu(X)$ and $\\sigma(X)$:\n",
    "\n",
    "\\begin{cases}\n",
    "\\frac{1}{2} \\sigma^{2}(X) \\mu''(X) + \\mu(X) \\mu'(X) = 0 \\\\\n",
    "\\sigma(X) \\mu'(X) = 0 \\quad \\quad \\quad \\quad \\quad \\quad \\quad \\quad \\quad \\quad(4) \\\\\n",
    "\\frac{1}{2} \\sigma^{2}(X) \\sigma''(X) + \\mu(X) \\sigma'(X) = 0 \\\\\n",
    "\\end{cases}\n",
    "\n",
    "First, notice that equation (2) implies no restrictions on $\\mu(X)$. Thus, if we set $\\mu(X) = 0$, we have\n",
    "$\\mu'(X) = \\mu''(X) = 0$, and this solution solves the system of equation (4) while satisfying condition (2). Therefore, a process where with no drift factor should satisfy condition A and B.\n",
    "\n",
    "We can take for example a simple stochastic process $\\{X_{t}\\}$ which solves the SDE given by\n",
    "\n",
    "\\begin{equation}\n",
    "dX_{t} = \\sigma X_{t} dW_{t} \\quad (5)\n",
    "\\end{equation}\n",
    "with initial value $X_{0} > 0$.\n",
    "\n",
    "Solving the SDE given in (5): let $f(X_{t}) = \\ln(X_{t})$, by using Itô's lemma we have <br>\n",
    "\n",
    "$\n",
    "\\begin{equation}\n",
    "d f(Y_{t}) = d \\ln(X_{t}) = \\frac{\\partial f}{\\partial X} dX_{t} + \\frac{1}{2} \\frac{\\partial^2 f}{\\partial X^2} (dX_{t})^2 = \\frac{1}{X_{t}}\\sigma X_{t} dW_{t} - \\frac{1}{2X_{t}^2} \\sigma^2 X^2_{t} (dW_{t})^2 = \n",
    "-\\frac{1}{2} \\sigma^2 dt + \\sigma dW_{t}\n",
    "\\end{equation}\n",
    "$\n",
    "\n",
    "By integrating both sides, we obtain\n",
    "\n",
    "$\n",
    "\\begin{equation}\n",
    "\\ln(X_{t}) - \\ln(X_{0}) = - \\frac{1}{2} \\sigma^2 t + \\sigma W_{t} \\Leftrightarrow X_{t} = e^{\\ln(X_{0}) - \\frac{1}{2} \\sigma^2 t + \\sigma W_{t}} \\Leftrightarrow X_{t} = X_{0}e^{- \\frac{1}{2} \\sigma^2 t + \\sigma W_{t}} \\quad (6)\n",
    "\\end{equation}\n",
    "$\n",
    "\n",
    "Therefore, the stochastic process $\\{X_{t}\\}$ given in (6) that solves the SDE (5) has its first order Euler scheme that does not coincide with its Milstein scheme, however, its second order Euler scheme coincides with its Milstein scheme."
   ]
  },
  {
   "cell_type": "markdown",
   "id": "b5712a27",
   "metadata": {},
   "source": [
    "# Problem 3\n",
    "\n",
    "Consider the problem of pricing an Asian put option written on an underlying stock with price $S$, strike price $K$ and maturity date $T$. Under the Black-Scholes framework, the price of the stock at time-t is given by\n",
    "\n",
    "\\begin{align}\n",
    "\tS_t = S_0 \\exp\\left( (r - \\frac{\\sigma^2}{2}) t + \\sigma W_t\\right), \n",
    "\\end{align}\n",
    "\n",
    "where $r \\geq 0$ is the constant interest rate, $S_0 > 0$ is the initial stock price, $\\sigma > 0$ is the volatility and $(W_t)_{t \\geq 0}$ is a standard one-dimensional Brownian motion under the risk-neutral measure.\n",
    "\n",
    "The option payoff at maturity $T > 0$ is given by \n",
    "\n",
    "\\begin{equation}\n",
    "H = (K-\\frac{1}{m} \\sum_{j=1}^{m} S_{t_{j}})^{+} \\quad (1)\n",
    "\\end{equation}\n",
    "\n",
    "where $0 = t_0 < t_1 < ... < t_m = T$ is a fixed set of dates. We assume that $t_{j} = jh$ for $j \\in \\{0,1,...,m\\}, h = \\frac{T}{m} \\text{ and } m \\in \\mathbb{N}$.\n",
    "\n",
    "### I) Monte Carlo estimator for time-0 option price\n",
    "\n",
    "The time-0 price of the Asian put option with payoff (1) is given by the expectation of the discounted payoff under the risk-neutral measure, i.e it is given by \n",
    "\n",
    "\\begin{equation}\n",
    "I = \\mathbb{E} \\left[e^{-rT} (K-\\frac{1}{m} \\sum_{j=1}^{m} S_{t_{j}})^{+} \\right] \\quad (2) \n",
    "\\end{equation}\n",
    "\n",
    "We can compute the price of this option using a Monte Carlo estimator given by\n",
    "\n",
    "\\begin{equation}\n",
    "\\hat{I}_{n} = \\frac{1}{n} \\sum_{i=1}^{n} Y_{i}\n",
    "\\end{equation}\n",
    "\n",
    "where $n \\in \\mathbb{N}$ and $Y_{i}$ are i.i.d with the same distribution as the random variable\n",
    "$\n",
    "\\begin{equation}\n",
    "Y = e^{-rT}(K - \\frac{1}{m} \\sum_{j = 1}^{m} S_{t_j})^{+}. \\quad (3)\n",
    "\\end{equation}\n",
    "$\n",
    "\n",
    "#### Procedure for obtaining Monte Carlo estimate\n",
    "To obtain the Monte Carlo estimator, we will generate $n$ different paths of the stock price $S_t$, where each path is of length $m$. We denote $Z^{(i)}_{j}$, the $j$th draw from the $\\mathcal{N}_{1}(0,1)$ along the $i$th path, where $i = 1,...,n$. We also assume that the $Z^{(i)}_{j}$, for $i = 1,...,n$ and $j = 1,...,m$, are mutually independent. <br>\n",
    "For a path $i$, we will start by generating a sample path of the stock price using the using the exact simulation scheme which is given by\n",
    "- Set $\\hat{S}^{(i)}_{0} = S_{0}$\n",
    "- Generate $Z^{(i)}_{j}$ from $\\mathcal{N}_{1}(0,1)$ for $j = 1,...,m$.\n",
    "- Set $\\hat{S}^{(i)}_{jh} = \\hat{S}^{(i)}_{(j-1)h} \\exp \\left( (r-\\frac{\\sigma^2}{2})h+\\sigma \\sqrt{h} Z^{(i)}_{j} \\right)$ for $j = 1,...,m$. (We assume constant stepsize of length $h$)\n",
    "- Define $Y_{i} = e^{-rT}(K - \\frac{1}{m} \\sum_{j=1}^{m} \\hat{S}^{(i)}_{jh})^{+}$\n",
    "\n",
    "Therefore, repeating the above procedure $n$ times, we obtain our standard Monte Carlo estimator which corresponds to the sample mean of the time-0 price of the option estimated over the $n$ different paths, i.e\n",
    "\n",
    "\\begin{equation}\n",
    "\\hat{I}_{n} = \\frac{1}{n} \\sum_{i=1}^{n} Y_{i} = \\frac{1}{n} \\sum_{i=1}^{n} \\left(e^{-rT}(K - \\frac{1}{m} \\sum_{j=1}^{m} \\hat{S}^{(i)}_{jh})^{+}\\right)\n",
    "\\end{equation}\n"
   ]
  },
  {
   "cell_type": "markdown",
   "id": "858cce94",
   "metadata": {},
   "source": [
    "#### Asymptotic confidence Interval \n",
    "\n",
    "To derive an asymptotic confidence interval for our Monte Carlo estimate, we will use the Central Limit Theorem, where we have \n",
    "\n",
    "\\begin{equation}\n",
    "\\sqrt{n} \\left(\\frac{\\hat{I}_{n} - I}{\\sigma_{I}} \\right) \\Rightarrow Z \\quad\n",
    "\\text{ as } n \\to\\infty \\quad\n",
    "\\text{ for } Z \\sim \\mathcal{N}(0,1) \\quad (4)\n",
    "\\end{equation}\n",
    "\n",
    "with $\\sigma^{2}_{I} = \\text{var}(Y) < \\infty$ where $Y$ is defined by (3). By replacing $\\sigma_{I}$ by its consistent estimator $s_{n}$ and using result (4), we can derive an asymptotic 99% confidence interval for $I$ which is given by\n",
    "\n",
    "\\begin{equation}\n",
    "\\lim_{n \\to \\infty} \\mathbb{P} \\left( I \\in \\left( \\hat{I}_{n} - \\phi^{-1}(0.995) \\frac{s_{n}}{\\sqrt{n}}, \\hat{I}_{n} + \\phi^{-1}(0.995) \\frac{s_{n}}{\\sqrt{n}} \\right) \\right) = 0.99 \\quad\n",
    "\\Leftrightarrow \\quad\n",
    "\\text{CI} = \\left( \\hat{I}_{n} - \\phi^{-1}(0.995) \\frac{s_{n}}{\\sqrt{n}}, \\hat{I}_{n} + \\phi^{-1}(0.995) \\frac{s_{n}}{\\sqrt{n}} \\right)\n",
    "\\end{equation}\n",
    "\n",
    "where $\\phi^{-1}$ is the inverse cdf of the standard normal distribution \n",
    "and $s_{n} = \\sqrt{\\frac{1}{n-1} \\sum_{i=1}^{n} (Y_{i} - \\hat{I}_{n})^{2}}$.\n",
    "\n",
    "\n"
   ]
  },
  {
   "cell_type": "markdown",
   "id": "63abe6d5",
   "metadata": {},
   "source": [
    "#### Implementation in Python\n",
    "\n",
    "The first function, generate_gbm_exact, generates a matrix where each row represents a simulated path of the stock price using the exact scheme. The second function, asianoption_mc, will use the matrix of generated paths to return a Monte Carlo estimator for our time-0 price option along with its standard error and an associated confidence interval."
   ]
  },
  {
   "cell_type": "code",
   "execution_count": 13,
   "id": "c0ff88bd",
   "metadata": {},
   "outputs": [],
   "source": [
    "# First create function that generates n sample path which is vectorized\n",
    "def generate_gbm_exact(rng, s0, r, sigma, T, samplesize, steps):\n",
    "    \"\"\" \n",
    "    Function that generates a number of stock price path and returns them in a matrix where each row corresponds\n",
    "    to a single path.\n",
    "    \n",
    "    Parameters:\n",
    "    rng : numpy generator object for generating random numbers.\n",
    "    s0 : initial stock price (float).\n",
    "    r : riskless interest rate (float).\n",
    "    sigma : stock price volatility (float)\n",
    "    T : Terminal time for which stock price is simulated (float).\n",
    "    samplesize : number of generated paths (int).\n",
    "    steps : number of fixed date where stock price is simulated over a path (int).\n",
    "    \"\"\"\n",
    "    h = T/steps # stepsize\n",
    "    # Generate Brownian motion increments\n",
    "    normal_rv = rng.standard_normal(size=(samplesize, steps)) # matrix where each row will contain a sample path\n",
    "    \n",
    "    # Generate sample paths\n",
    "    timepoints = np.arange(start = 1, stop = steps + 1) * h # vector containing time point\n",
    "    rv = np.cumsum(normal_rv, axis = 1) # axis = 1 correponds to horizontal sum\n",
    "    tmp1 = (r - 0.5 * sigma ** 2) * timepoints\n",
    "    tmp1 = np.tile(tmp1,  reps=(samplesize,1)) # adjusting size of tmp1\n",
    "    tmp2 = np.sqrt(h) * sigma * rv\n",
    "    samplepaths = s0 * np.exp(tmp1 + tmp2) \n",
    "    \n",
    "    # Inserting initial price in sample paths\n",
    "    samplepaths = np.insert(samplepaths, 0, s0 ,axis=1)\n",
    "    \n",
    "    return samplepaths"
   ]
  },
  {
   "cell_type": "code",
   "execution_count": 14,
   "id": "a4487982",
   "metadata": {},
   "outputs": [],
   "source": [
    "# Now use sample path to price Asian put option\n",
    "def asianoption_mc(rng, s0, r, sigma, T, k, samplesize, steps, epsilon):\n",
    "    \"\"\" \n",
    "    Function that returns a Monte Carlo estimate for an Asian put option along with its standard error and associated\n",
    "    confidence interval.\n",
    "    \n",
    "    Parameters:\n",
    "    rng : numpy generator object for generating random numbers.\n",
    "    s0 : initial stock price (float).\n",
    "    r : riskless interest rate (float).\n",
    "    sigma : stock price volatility (float)\n",
    "    T : Terminal time for which stock price is simulated (float).\n",
    "    k : option strike price (float)\n",
    "    samplesize : number of generated paths (int).\n",
    "    steps : number of fixed date where stock price is simulated over a path (int).\n",
    "    epsilon : confidence level for confidence interval (float between 0 and 1)\n",
    "    \"\"\"\n",
    "    # Generate sample paths\n",
    "    samplepaths = generate_gbm_exact(rng, s0, r, sigma, T, samplesize, steps)\n",
    "    # Compute payoffs at T\n",
    "    stockmean = np.mean(samplepaths[:,1:],axis=1)\n",
    "    payoffs = np.maximum(k - stockmean, 0)\n",
    "    # Compute discounted payoffs\n",
    "    dpayoffs = np.exp(-r * T)*payoffs\n",
    "    # Obtain MC estimate\n",
    "    mc_price = np.mean(dpayoffs)\n",
    "    # Compute (1- epsilon)% confidence interval\n",
    "    standard_deviation = np.std(dpayoffs, ddof=1) \n",
    "    standard_deviation_mc = standard_deviation / np.sqrt(samplesize)\n",
    "    aepsilon = norm.ppf(1.0 - epsilon * 0.5) # CDF inverse of N(0,1)\n",
    "    # Compute lower and upper boundaries\n",
    "    lower_bound = mc_price - aepsilon * standard_deviation_mc\n",
    "    upper_bound = mc_price + aepsilon * standard_deviation_mc\n",
    "    \n",
    "    return (mc_price, standard_deviation_mc, lower_bound, upper_bound)"
   ]
  },
  {
   "cell_type": "code",
   "execution_count": 15,
   "id": "e22405da",
   "metadata": {},
   "outputs": [
    {
     "name": "stdout",
     "output_type": "stream",
     "text": [
      "MC price of Asian option:  6.70857 , stdev of MC est:  0.08816\n",
      "The corresponding CI is: ( 6.48149 ,  6.93566 ).\n"
     ]
    }
   ],
   "source": [
    "# Estimating time-0 option price with below parameters\n",
    "s0 = 100\n",
    "k = 100\n",
    "r = 0.01\n",
    "sigma = 0.3\n",
    "T = 1\n",
    "samplesize = 10000\n",
    "m = 100\n",
    "epsilon = 0.01\n",
    "rounding = 5\n",
    "\n",
    "MCresults = asianoption_mc(rng, s0, r, sigma, T, k, samplesize, m, epsilon)\n",
    "\n",
    "print(\"MC price of Asian option: \", round(MCresults[0], rounding), \", stdev of MC est: \", \n",
    "      round(MCresults[1], rounding))\n",
    "print(\"The corresponding CI is: (\", round(MCresults[2], rounding), \", \" ,  round(MCresults[3], rounding), \").\")"
   ]
  },
  {
   "cell_type": "markdown",
   "id": "9ca36364",
   "metadata": {},
   "source": [
    "Therefore, our Monte Carlo estimate for the time-0 price of our option with payoff (1) is equal to $6.70857$. Moreover, we are 99% percent confident that the interval $[6.48149, 6.93566]$ contains the true value of the time-0 price of the option."
   ]
  },
  {
   "cell_type": "markdown",
   "id": "fdaaad8c",
   "metadata": {},
   "source": [
    "### II) Control variate technique for variance reduction\n",
    "\n",
    "As we can see, the obtained confidence interval above is relatively broad. However, we can try to obtain a narrower interval by using variance reduction techniques such as the control variate method.\n",
    "\n",
    "Suppose we would like to estimate $E[Y]$ where $Y = e^{-rT}(K - \\frac{1}{m} \\sum_{j = 1}^{m} S_{t_j})^{+}$ and $Z$ is a random variable with mean $\\mu = E[Z]$ where $ Z = e^{-rT}(K - (\\prod_{j = 1}^{m} S_{t_j})^{\\frac{1}{m}})^{+}$. In a world where we can compute analytically $\\mu$, it is possible to define a controle variate estimator with parameter $b^{*}$ of $E[Y]$ which is given by \n",
    "\n",
    "\\begin{equation}\n",
    "\\bar{Y}_{n}(b) = \\bar{Y}_{n} - b^{*}(\\bar{Z}_{n} - E[Z]) = \n",
    "\\frac{1}{n} \\sum_{i=1}^{n} \\left( Y_{i} - b^{*} (Z_{i} - E[Z]) \\right) \\quad (5)\n",
    "\\end{equation}\n",
    "\n",
    "where the pairs $(Y_{i}, Z_{i})$ are i.i.d for $i = 1,...n$  and $b^{*} = \\frac{\\text{cov}(Z, Y)}{\\text{var}(Z)}$.\n",
    "\n",
    "This control variate estimator defined in (5) will use the observed error $(\\bar{Z}_{n} - E[Z])$ to control the estimation of $E[Y]$. Also, $\\bar{Y}_{n}(b)$ remains an unbiased and strongly consistent estimator for $E[Y]$ where \n",
    "\n",
    "\\begin{equation}\n",
    "\\text{var}(\\bar{Y}_{n}(b)) =  \\text{var}(\\bar{Y}_{n}) - \\frac{1}{n} \\frac{\\text{cov}(Z,Y)^2}{\\text{var}(Z)} \\quad\n",
    "\\Leftrightarrow \\quad \\frac{\\text{var}(\\bar{Y}_{n}(b))}{\\text{var}(\\bar{Y}_{n})} = 1 - \\rho^{2}_{ZY}\n",
    "\\end{equation}\n",
    "\n",
    "where $\\text{var}(\\bar{Y}_{n})$ is the variance of the standard Monte carlo estimator for $E[Y]$ and $\\rho_{ZY}$ is the correlation coefficient between $Z$ and $Y$.\n",
    "\n",
    "Therefore, we can clearly see that $Z$ is a suitable control variate for estimating the time-0 price of an option with payoff (1), if the correlation between $Z$ and $Y$ is large enough to overcome the extra computational effort associated with generating the samples $Z$. Indeed, the largest the squared correlation is between $Z$ and $Y$, the highest the reduction in variance is relatively to the standard Monte Carlo estimator.\n",
    "\n",
    "#### Suitability of the control variate method\n",
    "\n",
    "The squared correlation between $Z$ and $Y$ is given by\n",
    "\n",
    "\\begin{equation}\n",
    "\\text{corr}(Z,Y)^2 = \\text{corr} \\left(e^{-rT}(K - \\frac{1}{m} \\sum_{j = 1}^{m} S_{t_j})^{+}, \n",
    "e^{-rT}(K - (\\prod_{j = 1}^{m} S_{t_j})^{\\frac{1}{m}})^{+}\\right)^2 = \\text{corr}\\left((K - \\frac{1}{m} \\sum_{j = 1}^{m} S_{t_j})^{+}, \n",
    "(K - (\\prod_{j = 1}^{m} S_{t_j})^{\\frac{1}{m}})^{+}\\right)^2 \\quad (6)\n",
    "\\end{equation}\n",
    "\n",
    "The function below returns the sample squared correlation coefficient between $Z$ and $Y$ for different parameters."
   ]
  },
  {
   "cell_type": "code",
   "execution_count": 16,
   "id": "783fb037",
   "metadata": {},
   "outputs": [],
   "source": [
    "def corrZY(rng, s0, r, sigma, T, k, samplesize, steps):\n",
    "    \"\"\"Function that returns the squared sample correlation between Z and Y.\"\"\"\n",
    "    # Generate sample paths\n",
    "    samplepaths = generate_gbm_exact(rng, s0, r, sigma, T, samplesize, steps)\n",
    "    # Obtain sample from Y\n",
    "    stockmean = np.mean(samplepaths[:,1:],axis=1)\n",
    "    y = np.maximum(k - stockmean, 0)\n",
    "    # Obtain sample from Z\n",
    "    stockproduct = (np.prod(samplepaths[:,1:],axis=1))**(1/steps)\n",
    "    z = np.maximum(k - stockproduct, 0)\n",
    "    return np.corrcoef(y, z)[0][1]**2"
   ]
  },
  {
   "cell_type": "code",
   "execution_count": 17,
   "id": "92f19d41",
   "metadata": {},
   "outputs": [
    {
     "name": "stdout",
     "output_type": "stream",
     "text": [
      "Possible variance reduction of 99.85% compared to standard Monte Carlo estimator\n"
     ]
    }
   ],
   "source": [
    "# Testing possible correlation with parameter of question 1\n",
    "corr_cv = corrZY(rng, s0, r, sigma, T, k, samplesize, m)\n",
    "reduction = round((corr_cv)*100, 2)\n",
    "\n",
    "print(\"Possible variance reduction of {}% compared to standard Monte Carlo estimator\".format(reduction))"
   ]
  },
  {
   "cell_type": "markdown",
   "id": "f5376ab5",
   "metadata": {},
   "source": [
    "We can see that with the option's parameters used earlier, we can achieve a significant variance reduction in our standard Monte Carlo estimator. Indeed, by using $Z$ as a control variate, we were able to decrease the variance by 99.85%.\n",
    "\n",
    "#### Testing the suitability of the technique on different situations\n",
    "\n",
    "However, this significant decrease was obtained under a specific set of parameters. Therefore, before being able to decide which method is preferrable for estimating the price of the option with payoff given in (1), we have to test the efficiency of the control variate method under different set of parameters. By having a closer look at the squared correlation given by (6), we can see that $\\rho_{ZY}^2$ is heavily dependent on the stock path. More specifically, it seems to somehow measure the correlation between the geometric and arithmetic mean of the stock path. If the geometric mean of the stock path varies significantly from its arithmetic mean due to high volatility for instance, we may expect a decrease in $\\rho_{YZ}^2$ and vice versa. Also, the strike price $K$ seems to play a non-neglible role where I believe that a small strike price will punish more severly divergent geometric and arithmetic means compared to a larger strike price. \n",
    "\n",
    "Let's plot the squared correlation $\\rho_{ZY}^2$ against different volatility and strike prices."
   ]
  },
  {
   "cell_type": "code",
   "execution_count": 18,
   "id": "1de38ac2",
   "metadata": {},
   "outputs": [
    {
     "data": {
      "image/png": "[encoded data removed]",
      "text/plain": [
       "<Figure size 1008x432 with 2 Axes>"
      ]
     },
     "metadata": {
      "needs_background": "light"
     },
     "output_type": "display_data"
    }
   ],
   "source": [
    "vol_vector = np.linspace(0.1, 1, 20) # volatility vector\n",
    "strike_vector = np.arange(70, 130, 3) # strike price vector\n",
    "\n",
    "# obtaining squared correlation measure\n",
    "corr_sigma = np.zeros(len(vol_vector))\n",
    "corr_strike = np.zeros(len(strike_vector))\n",
    "for i in range(len(vol_vector)):\n",
    "    corr_sigma[i] = corrZY(rng, s0, r, vol_vector[i], T, k, samplesize, m)\n",
    "    corr_strike[i] = corrZY(rng, s0, r, sigma, T, strike_vector[i], samplesize, m)\n",
    "\n",
    "# Plotting sample squared correlation against different strike price and volatility    \n",
    "fig, (ax1, ax2) = plt.subplots(nrows=1, ncols=2, figsize = (14,6))\n",
    "ax1.plot(vol_vector, corr_sigma, lw=1, c=\"blue\")\n",
    "ax1.set_ylabel(r\"$\\rho^2$\")\n",
    "ax1.set_xlabel(r\"$\\sigma$\")\n",
    "ax1.set_title(\"Squared correlation between Y and Z\")\n",
    "ax2.plot(strike_vector, corr_strike, lw=1, c=\"blue\")\n",
    "ax2.set_ylabel(r\"$\\rho^2$\")\n",
    "ax2.set_xlabel(\"K\")\n",
    "ax2.set_title(\"Squared correlation between Y and Z\")\n",
    "plt.show()"
   ]
  },
  {
   "cell_type": "markdown",
   "id": "f4dc71c6",
   "metadata": {},
   "source": [
    "As expected, we can see a slight decrease in $\\rho_{YZ}^{2}$ as the volatility increases and a slight increase in $\\rho_{YZ}^{2}$ as the strike price increases. However, we can see that $\\rho_{YZ}^{2}$ remains significantly high, around 96%, and thus those changes are negligible. We can conclude that using Z as control variate for estimating the time-0 price of an Asian put option may significantly reduce the variance of the standard Monte Carlo estimator by around 96% for different volatility parameters and strike prices. This reduction in the variance of our estimator will imply a lower standard error and a narrower confidence interval for our estimator, and hence a more precise price of our Asian put option. Therefore, in a world where $E[Z]$ can be computed analytically, $Z$ is a suitable controle for estimating the time-0 price of the given option. <br> "
   ]
  },
  {
   "cell_type": "markdown",
   "id": "1012ca5b",
   "metadata": {},
   "source": [
    "## Problem 4"
   ]
  },
  {
   "cell_type": "markdown",
   "id": "87e82fb3",
   "metadata": {},
   "source": [
    "## Finite Difference Scheme for Ordinary Differential equation (ODE) "
   ]
  },
  {
   "cell_type": "markdown",
   "id": "069e83fd",
   "metadata": {},
   "source": [
    "We consider the problem of implementing a forward finite difference scheme for approximating the solution of the ODE given below.\n",
    "\n",
    "Consider the ODE\n",
    "\\begin{align*}\n",
    "\tu'(t) = u(t) + 5t - 10, \\quad \\forall t \\in \\left(0,2\\right] \\quad (1) \\\\\n",
    "\\end{align*}\n",
    "\\begin{align*}\n",
    "\tu(0) = 8 \\\\\n",
    "\\end{align*}\n",
    "where $u:\\left[0,2\\right] \\to\\mathbb R$.\n",
    "\n",
    "### I) Solving the ODE analytically\n",
    "\n",
    "The ODE in (1) can be written as follow\n",
    "\n",
    "\\begin{align*}\n",
    "\tu'(t) + p(t) u(t) = q(t) \\quad (2)\n",
    "\\end{align*}\n",
    "where $p(t) = -1 \\text{ and } q(t) = 5t -10$. \n",
    "\n",
    "From its form, we can deduce that it is a first order linear ODE, which can be solved by first finding the integrator factor and then by integrating the result. <br>\n",
    "Our integrator factor is such that $I(t)p(t) = I'(t)$  and is given by\n",
    "\n",
    "\\begin{equation} I(t) = e^{\\int p(t) dt} = e^{\\int -1 dt} = e^{-t} \\quad (3) \\end{equation}\n",
    "\n",
    "Now by multiplying both sides of equation (2) by (3) we get\n",
    "\n",
    "\\begin{equation} u'(t)I(t) + u(t)I'(t) = q(t)I(t) \\quad \\Rightarrow \\quad [e^{-t}u(t)]' = (5t -10)e^{-t} \\quad (4) \\end{equation}\n",
    "\n",
    "By integrating both sides of equation (4), we obtain\n",
    "\n",
    "\\begin{equation} e^{-t}u(t) = 5e^{-t}(1-t) + C \\quad \\Rightarrow \\quad u(t) = Ce^{t} -5t +5 \\end{equation}\n",
    "\n",
    "along with the condition $u(0) = 8$, we finally obtain\n",
    "\n",
    "\\begin{equation} u(0) = C + 5 = 8 \\quad \\Rightarrow \\quad C = 3 \\quad \\Rightarrow \\quad u(t) = 3e^{t} -5t +5 \\quad (5) \\end{equation}\n",
    "\n",
    "As we can see, result (5) solves the given ODE (1). Therefore, we can safely implement a forward finite difference scheme for approximating the ODE (1) and compare our approximation with its analytical solution."
   ]
  },
  {
   "cell_type": "markdown",
   "id": "6139afdb",
   "metadata": {},
   "source": [
    "### II) Deriving an explicit finite diffrence scheme\n",
    "We first start by discretising the time $t$ variable to obtain a one-dimensional grid. We consider the time interval $[0,2]$ and given a strictly positive integer $n$, we define $\\Delta t = \\frac{2}{n} > 0 $, and we use $n + 1$ points in time\n",
    "\n",
    "\\begin{equation} 0 = t_{0} < t_{1} < ... < t_{n} = 2 \\end{equation}\n",
    "\n",
    "where \n",
    "\n",
    "\\begin{equation} t_{\\ell} = \\ell \\Delta t, \\text{ for } \\ell = \\{0, 1\\dots\\, n\\}. \\end{equation}\n",
    "\n",
    "Given this grid, the function $u$ in (1) can be written\n",
    "\n",
    "\\begin{equation} u_{\\ell} = u(t_{\\ell}), \\text{ for } \\ell = \\{0, 1\\dots\\, n\\}. \\end{equation}\n",
    "\n",
    "The explicit finite difference scheme will use a forward scheme for the first derivative with respect to time to approximate the solution of the ODE given in (1). We approximate the derivative in equation (1) to obtain\n",
    "\n",
    "\\begin{equation} \\frac{u_{\\ell +1} - u_{\\ell}}{\\Delta t} + O(\\Delta t) = u_{\\ell} + 5\\ell - 10 \\end{equation}\n",
    "\n",
    "By ignoring the error term and re-arranging the equation, the explicit finite difference scheme is given by the following scheme\n",
    "\n",
    "\\begin{equation} u_{\\ell +1} = u_{\\ell} + \\Delta t (u_{\\ell} + 5\\ell - 10), \\quad \\text{ for } \n",
    "\\ell = \\{0, 1\\dots\\, n\\}  \\quad (6)\n",
    "\\end{equation}\n",
    "\n",
    "where $u_{0} = u(0) = 8$."
   ]
  },
  {
   "cell_type": "markdown",
   "id": "f7cad640",
   "metadata": {},
   "source": [
    "#### Implementing the scheme in Python\n",
    "The function below implements the explicit finite difference scheme (6) over the discretised time grid for a specified number of points. It may also return a specific time point estimate by modifying the \"whicht\" argument which has None as default value."
   ]
  },
  {
   "cell_type": "code",
   "execution_count": 19,
   "id": "068738d1",
   "metadata": {},
   "outputs": [],
   "source": [
    "def forward_ode(numberofpoints, whicht = None):\n",
    "    \"\"\"Function that returns a vector of approximated solution of the ODE (1) along with its associated discretized\n",
    "    time-space. May return a point approximation by modifying whicht parameter.\"\"\"\n",
    "    deltat = 2/numberofpoints # determine stepsize \n",
    "    timepoints = np.arange(start = 0, stop =  numberofpoints + 1)*deltat # discretizing time space\n",
    "    u_hat = None # point estimate\n",
    "    allvalues = np.zeros(numberofpoints+1) # initialize vector that will contain ODE solutions\n",
    "    allvalues[0] = 8 # initialize first element by u(0)\n",
    "    for i in range(1,numberofpoints+1): # recursively obtaining the ODE solution\n",
    "        allvalues[i] = deltat*(allvalues[i-1] + 5*timepoints[i] - 10) + allvalues[i-1]\n",
    "        if timepoints[i] == whicht: # finding specified timepoint on the grid\n",
    "            u_hat = allvalues[i] \n",
    "    return timepoints, allvalues, u_hat"
   ]
  },
  {
   "cell_type": "markdown",
   "id": "f1dc93bd",
   "metadata": {},
   "source": [
    "### III) Comparing ODE approximation with analytical result\n",
    "The function below return the analytical ODE solution for a specified $t$ parameter."
   ]
  },
  {
   "cell_type": "code",
   "execution_count": 20,
   "id": "5b71b752",
   "metadata": {},
   "outputs": [],
   "source": [
    "def ode_sol(t):\n",
    "    \"\"\"Returns analytical ODE solution evaluated at t.\"\"\"\n",
    "    result = 3 * np.exp(t) - 5 * t + 5\n",
    "    return result"
   ]
  },
  {
   "cell_type": "markdown",
   "id": "91fcccdc",
   "metadata": {},
   "source": [
    "#### Graphically\n",
    "\n",
    "To asses graphically how precise is our finite difference scheme, we can plot our approximation of $u$ as a function of $t$, as well as, the analytical solution given by (5). Since the precision of our approximated solutions seem to be heavily dependent on the number of grid points used, we will approximate the ODE given in (1) using two schemes, one with $10+1$ and one with $100+1$ grid points and compare them respectively to the analytical solution given in (5)."
   ]
  },
  {
   "cell_type": "code",
   "execution_count": 21,
   "id": "0650500c",
   "metadata": {},
   "outputs": [
    {
     "data": {
      "image/png": "[encoded data removed]",
      "text/plain": [
       "<Figure size 720x432 with 1 Axes>"
      ]
     },
     "metadata": {
      "needs_background": "light"
     },
     "output_type": "display_data"
    }
   ],
   "source": [
    "# Plotting the ODE approximated solution against analytical solution\n",
    "low_n_appr = forward_ode(10) # scheme with 11 grid points\n",
    "high_n_appr = forward_ode(100) # scheme with 101 grid points\n",
    "low_n_sol = ode_sol(low_n_appr[0]) # associated ODE solution \n",
    "high_n_sol = ode_sol(high_n_appr[0])\n",
    "\n",
    "fig, ax = plt.subplots(nrows=1, ncols=1, figsize = (10,6))\n",
    "ax.plot(low_n_appr[0], low_n_appr[1], lw=3, c=\"orange\", label=\"A: Approximated solutions for 10+1 points\", \n",
    "        linestyle = \"dashed\")\n",
    "ax.plot(high_n_appr[0], high_n_sol, lw=3, c=\"blue\", label=\"B: Analytical solutions\", alpha=0.75)\n",
    "ax.plot(high_n_appr[0], high_n_appr[1], lw=2, c=\"red\", label=\"C: Approximated solutions for 100+1 points\", \n",
    "        linestyle = \"dashed\")\n",
    "\n",
    "ax.set_ylabel(r\"$u(t)$\")\n",
    "ax.set_xlabel(\"t\")\n",
    "ax.set_title(\"Comparing forward scheme approximations of $u(t)$ against its analytical solution\")\n",
    "ax.legend(loc=(1.04,0.8))\n",
    "plt.show()"
   ]
  },
  {
   "cell_type": "markdown",
   "id": "fa41e597",
   "metadata": {},
   "source": [
    "First, we can notice a significant difference of fit when using 10+1 against 100+1 grid points. Indeed, from $t = 0$ to $t = 0.5$, the curves A and C are pretty close to each other and to curve B, which represents the ODE analytical solution. However, as t increases, the curve A strongly deviates from curve B and C while curve C slightly deviates from curve B. This indicates that the number of grid points used to approximate the ODE plays indeed a major role in our estimations' precision. Indeed, curve A is almost always situated above curve B, while curve C is very close to curve B. This suggests that the finite difference scheme with 10+1 grid points seems to systematically overestimate the ODE solutions and seems to perform poorly compared to the finite difference scheme with 100+1 grid points. Indeed, graphically, the finite difference scheme with 100+1 grid points looks to perform well, despite the slight deviation for $t > 1$.\n",
    "\n",
    "Secondly, we can observe that the respective gap between curves A and C with curve B appear to be linearly increasing over time. We can verify this claim by plotting the absolute error over time for the two finite difference scheme."
   ]
  },
  {
   "cell_type": "code",
   "execution_count": 22,
   "id": "26f17ba3",
   "metadata": {},
   "outputs": [
    {
     "data": {
      "image/png": "[encoded data removed]",
      "text/plain": [
       "<Figure size 576x360 with 1 Axes>"
      ]
     },
     "metadata": {
      "needs_background": "light"
     },
     "output_type": "display_data"
    }
   ],
   "source": [
    "# Pbtaining absolute error for the two schemes\n",
    "abs_error_low_n = np.absolute(low_n_appr[1] - low_n_sol) \n",
    "abs_error_high_n = np.absolute(high_n_appr[1] - high_n_sol)\n",
    "\n",
    "# Plotting absolute error over time for the two schemes\n",
    "fig, ax = plt.subplots(nrows=1, ncols=1, figsize = (8,5))\n",
    "ax.plot(low_n_appr[0], abs_error_low_n, lw=2, c=\"orange\", label=\"Finite difference scheme with 10+1 grid points\")\n",
    "ax.plot(high_n_appr[0], abs_error_high_n, lw=2, c=\"red\", label=\"Finite difference scheme with 100+1 grid points\")\n",
    "ax.set_ylabel(r\"$|\\epsilon|$\")\n",
    "ax.set_xlabel(\"t\")\n",
    "ax.set_title(\"Absolute error terms for finite difference scheme over time \")\n",
    "ax.legend(loc=(1.04,0.8))\n",
    "plt.show()"
   ]
  },
  {
   "cell_type": "markdown",
   "id": "33465204",
   "metadata": {},
   "source": [
    "By plotting the absolute error terms over time for the two finite difference schemes, we obtain two straight lines. This confirms our observation made earlier and can be explained by the fact that the order of convergence of the explicit scheme is $O(\\Delta t)$."
   ]
  },
  {
   "cell_type": "markdown",
   "id": "9da371bb",
   "metadata": {},
   "source": [
    "#### Algebraically\n",
    "\n",
    "Moreover, we can also try to assess the performance of our finite difference scheme algebraically by using measures such as the Mean Absolute Percentage Error (MAPE) which expresses accuracy as a percentage of error. It is defined as follow\n",
    "\n",
    "\\begin{equation} M =   \\sum_{\\ell=1}^{n} \\left|\\frac{u_{\\ell}-\\hat{u}_{\\ell}}{u_{\\ell}}\\right| \n",
    "\\end{equation}\n",
    "\n",
    "where $u_{\\ell}$ is the analytical solution of the ODE at time $i$ and $\\hat{u}_{\\ell}$ is its estimated value."
   ]
  },
  {
   "cell_type": "code",
   "execution_count": 23,
   "id": "3a61cbbf",
   "metadata": {},
   "outputs": [],
   "source": [
    "def mape(u, u_hat, rounding=2):\n",
    "    \"Function that takes two vectors as argument and returns their associated MAPE with default rounding of 2.\"\n",
    "    abs_sum = np.sum(np.absolute(u - u_hat))\n",
    "    mape = round(abs_sum*100/np.sum(u), rounding)\n",
    "    return mape"
   ]
  },
  {
   "cell_type": "code",
   "execution_count": 24,
   "id": "af93b02c",
   "metadata": {},
   "outputs": [
    {
     "name": "stdout",
     "output_type": "stream",
     "text": [
      "MAPE for 10+1 grid points: 8.15%\n",
      "MAPE for 100+1 grid points: 0.96%\n"
     ]
    }
   ],
   "source": [
    "mape_low_n = mape(low_n_sol, low_n_appr[1])\n",
    "mape_high_n = mape(high_n_sol, high_n_appr[1])\n",
    "\n",
    "print(\"MAPE for 10+1 grid points: {}%\".format(mape_low_n))\n",
    "print(\"MAPE for 100+1 grid points: {}%\".format(mape_high_n))"
   ]
  },
  {
   "cell_type": "markdown",
   "id": "7abd5839",
   "metadata": {},
   "source": [
    "We can clearly see that our percentage error has been strongly decreased by approximately a factor of 8, when using 10 times more grid points. Hence, we can conclude that our explicit finite difference scheme seems to perform well for estimating the ODE solution given in (1) for a number of grid points larger than 100. Indeed, for 100 grid points, we obtain a percentage error below 1%."
   ]
  },
  {
   "cell_type": "markdown",
   "id": "e5a24599",
   "metadata": {},
   "source": [
    "### IV) Point approximation with fixed error level\n",
    "If we would like to perform a point approximation of the ODE (1) given a fixed error level, we can try to create a function that recursively increase the number of grid points used until finding an absolute error that satisfies the given condition. The function below is an implementation of this strategy and takes as argument the time point at which we would like to estimate the ODE solution, the fixed error level and the starting number of grid points (greater than 10). It outputs the required number of points and the absolute error of the estimation."
   ]
  },
  {
   "cell_type": "code",
   "execution_count": 25,
   "id": "48e05b27",
   "metadata": {},
   "outputs": [],
   "source": [
    "def which_n(whicht, epsilon, n0=10):\n",
    "    \"\"\"Returns the number of required grid points for achieving an approximation of the ODE solution at a given time t\n",
    "    with a fixed error level.\"\"\"\n",
    "    n = int(n0/10) \n",
    "    u = 3*np.exp(whicht) -5*whicht +5 # analytical solution\n",
    "    u_hat = 0 # initializing estimate\n",
    "    \n",
    "    while np.absolute(u-u_hat) > epsilon: # while error level not attained, repeat operation\n",
    "        n *= 10 # tested number of grid points multiplied 10 at each iteration\n",
    "        deltat = 2/n # stepsize\n",
    "        allvalues = np.zeros(n+1) # vector of approximated ODE solutions \n",
    "        allvalues[0] = 8 # initializing vector\n",
    "        timepoints = np.arange(start = 0, stop =  n+1) * deltat\n",
    "        \n",
    "        for i in range(1,n+1):  # starting approximation for n grid points\n",
    "            allvalues[i] = deltat*(allvalues[i-1] + 5*timepoints[i] - 10) + allvalues[i-1]\n",
    "            if timepoints[i] == whicht: # approximation found at given time\n",
    "                print(\"Performed approximation for {} number of points.\".format(n))\n",
    "                u_hat = allvalues[i] # update estimation\n",
    "                break \n",
    "                \n",
    "    return n, np.absolute(u-u_hat)        "
   ]
  },
  {
   "cell_type": "markdown",
   "id": "b80d46b0",
   "metadata": {},
   "source": [
    "Let's find an $n \\in \\mathbb{N}$ such that $|u(1.77) - \\hat{u}_{n}(1.77)| \\leq 0.001 \\quad (7)$"
   ]
  },
  {
   "cell_type": "code",
   "execution_count": 26,
   "id": "59ffc8a8",
   "metadata": {},
   "outputs": [
    {
     "name": "stdout",
     "output_type": "stream",
     "text": [
      "Performed approximation for 1000 number of points.\n",
      "Performed approximation for 10000 number of points.\n",
      "Performed approximation for 1000000 number of points.\n",
      "-------\n",
      "\n",
      "Required number of points: 1000000\n"
     ]
    }
   ],
   "source": [
    "n_est = which_n(1.77, 0.001, 10)\n",
    "print(\"-------\")\n",
    "print(\"\\nRequired number of points: {}\".format(n_est[0]))"
   ]
  },
  {
   "cell_type": "markdown",
   "id": "feb2a707",
   "metadata": {},
   "source": [
    "We need one million grid points to obtain an error below 0.001. However, this number is quite large, and if we have a closer look, we can see that for 100 and 100000 grid points, the algortihm didn't generate an approximation at time $t = 1.77$. For 100 grid points, we can see that $\\ell = \\frac{1.77*100}{2} = 88.5$ is not an integer, and as a result, we don't have an approximation for $t =1.77$. However, for 100000 points, $\\ell = \\frac{1.77*100000}{2} = 88500$ is an integer, and, therefore, we should obtain an exact value at time 1.77. \n",
    "\n",
    "I believe that this result is caused by some rounding errors arising from the imperfect representation of floating point numbers in the computer. Indeed, when discretizing the time space for extremely small $\\Delta t$, the stepsize is not exactly equal to $2/100000 = 2*10^{-5}$. We can check that using the following code:"
   ]
  },
  {
   "cell_type": "code",
   "execution_count": 27,
   "id": "35cf6022",
   "metadata": {},
   "outputs": [
    {
     "name": "stdout",
     "output_type": "stream",
     "text": [
      "Stepsize between time 1 and 2: 2e-05\n",
      "Stepsize between time 88499 and 88500: 2.0000000000131024e-05\n"
     ]
    }
   ],
   "source": [
    "timepoint = forward_ode(100000)[0] # ode approximation for 100000 grid points\n",
    "\n",
    "# Computing step size at different time points\n",
    "computed_stepsize_1 = timepoint[1] - timepoint[0]\n",
    "computed_stepsize_2 = timepoint[88500] - timepoint[88499]\n",
    "\n",
    "print(\"Stepsize between time 1 and 2: {}\".format(computed_stepsize_1))\n",
    "print(\"Stepsize between time 88499 and 88500: {}\".format(computed_stepsize_2))"
   ]
  },
  {
   "cell_type": "markdown",
   "id": "4f033910",
   "metadata": {},
   "source": [
    "As we can see, the step size is not exactly equal to $2*10^{-5}$. However, by modifying the initial number of points from which the algortihm starts, we can arrive at a much lower number of required points."
   ]
  },
  {
   "cell_type": "code",
   "execution_count": 28,
   "id": "84d0c932",
   "metadata": {},
   "outputs": [
    {
     "name": "stdout",
     "output_type": "stream",
     "text": [
      "Performed approximation for 400 number of points.\n",
      "Performed approximation for 4000 number of points.\n",
      "Performed approximation for 40000 number of points.\n",
      "\n",
      "Required number of points: 40000\n"
     ]
    }
   ],
   "source": [
    "n_est_lower = which_n(1.77, 0.001, 40) # 40 staring grid points\n",
    "print(\"\\nRequired number of points: {}\".format(n_est_lower[0]))"
   ]
  },
  {
   "cell_type": "markdown",
   "id": "98e1ed2c",
   "metadata": {},
   "source": [
    "Hence, we see that 40000 grid points can satisfy condition (7), and this can be verified using our forward_ode function."
   ]
  },
  {
   "cell_type": "code",
   "execution_count": 29,
   "id": "45521fcd",
   "metadata": {},
   "outputs": [
    {
     "name": "stdout",
     "output_type": "stream",
     "text": [
      "0.0004\n"
     ]
    }
   ],
   "source": [
    "point_est = forward_ode(40000, 1.77)[2]\n",
    "point_sol = ode_sol(1.77)\n",
    "print(round(np.abs(point_est - point_sol),4))"
   ]
  }
 ],
 "metadata": {
  "kernelspec": {
   "display_name": "Python 3",
   "language": "python",
   "name": "python3"
  },
  "language_info": {
   "codemirror_mode": {
    "name": "ipython",
    "version": 3
   },
   "file_extension": ".py",
   "mimetype": "text/x-python",
   "name": "python",
   "nbconvert_exporter": "python",
   "pygments_lexer": "ipython3",
   "version": "3.8.8"
  }
 },
 "nbformat": 4,
 "nbformat_minor": 5
}
